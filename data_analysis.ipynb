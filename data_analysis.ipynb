{
 "cells": [
  {
   "cell_type": "code",
   "execution_count": null,
   "metadata": {},
   "outputs": [],
   "source": [
    "import pandas as pd\n",
    "import matplotlib.pyplot as plt"
   ]
  },
  {
   "cell_type": "code",
   "execution_count": null,
   "metadata": {},
   "outputs": [],
   "source": [
    "# path = '../datasets/position_data.csv'\n",
    "# path = '../datasets/virtual_data_example_pkg.csv'\n",
    "# path = '../datasets/virtual_data_1.csv'\n",
    "path = './data.csv'\n",
    "\n",
    "data = pd.read_csv(path)\n",
    "data.info()"
   ]
  },
  {
   "cell_type": "markdown",
   "metadata": {},
   "source": [
    "## Analyzing Data"
   ]
  },
  {
   "cell_type": "code",
   "execution_count": null,
   "metadata": {},
   "outputs": [],
   "source": [
    "# Plotting x and y positions in the dataset\n",
    "plt.plot(data['x'], data['y'], marker='x', color='blue', markersize=1)\n",
    "\n",
    "plt.title('x and y positions')\n",
    "plt.xlabel('x')\n",
    "plt.ylabel('y')\n",
    "plt.show()"
   ]
  },
  {
   "cell_type": "code",
   "execution_count": null,
   "metadata": {},
   "outputs": [],
   "source": [
    "# Printing the number of duplicates\n",
    "# NOTE: the joint angles were generated to be unique and should never contain duplicates\n",
    "print(f'{data['x'].duplicated(keep=False).sum()}')\n",
    "print(f'{data['y'].duplicated(keep=False).sum()}')\n",
    "print(f'{data['pitch'].duplicated(keep=False).sum()}')"
   ]
  },
  {
   "cell_type": "markdown",
   "metadata": {},
   "source": [
    "## Data Preprocessing"
   ]
  },
  {
   "cell_type": "code",
   "execution_count": null,
   "metadata": {},
   "outputs": [],
   "source": []
  }
 ],
 "metadata": {
  "kernelspec": {
   "display_name": "base",
   "language": "python",
   "name": "python3"
  },
  "language_info": {
   "name": "python",
   "version": "3.12.3"
  }
 },
 "nbformat": 4,
 "nbformat_minor": 2
}
