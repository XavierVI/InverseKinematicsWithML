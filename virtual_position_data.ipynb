{
 "cells": [
  {
   "cell_type": "code",
   "execution_count": 1,
   "metadata": {},
   "outputs": [],
   "source": [
    "import pandas as pd\n",
    "import matplotlib.pyplot as plt"
   ]
  },
  {
   "cell_type": "code",
   "execution_count": 5,
   "metadata": {},
   "outputs": [
    {
     "name": "stdout",
     "output_type": "stream",
     "text": [
      "<class 'pandas.core.frame.DataFrame'>\n",
      "RangeIndex: 19954 entries, 0 to 19953\n",
      "Data columns (total 6 columns):\n",
      " #   Column    Non-Null Count  Dtype  \n",
      "---  ------    --------------  -----  \n",
      " 0   x         19954 non-null  float64\n",
      " 1   y         19954 non-null  float64\n",
      " 2   pitch     19954 non-null  float64\n",
      " 3   shoulder  19954 non-null  float64\n",
      " 4   elbow     19954 non-null  float64\n",
      " 5   wrist     19954 non-null  float64\n",
      "dtypes: float64(6)\n",
      "memory usage: 935.5 KB\n"
     ]
    }
   ],
   "source": [
    "path = './virtual_data_1.csv'\n",
    "\n",
    "data = pd.read_csv(path)\n",
    "data.info()"
   ]
  }
 ],
 "metadata": {
  "kernelspec": {
   "display_name": "base",
   "language": "python",
   "name": "python3"
  },
  "language_info": {
   "codemirror_mode": {
    "name": "ipython",
    "version": 3
   },
   "file_extension": ".py",
   "mimetype": "text/x-python",
   "name": "python",
   "nbconvert_exporter": "python",
   "pygments_lexer": "ipython3",
   "version": "3.12.3"
  }
 },
 "nbformat": 4,
 "nbformat_minor": 2
}
